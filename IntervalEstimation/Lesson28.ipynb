{
 "cells": [
  {
   "cell_type": "code",
   "execution_count": 5,
   "id": "d430e194",
   "metadata": {},
   "outputs": [
    {
     "name": "stdout",
     "output_type": "stream",
     "text": [
      "[1.3172080016474328, 2.5297842818524896]\n"
     ]
    }
   ],
   "source": [
    "import numpy as np\n",
    "import scipy.stats as stats\n",
    "\n",
    "values = np.array([1, 2, 4, 6, 7])\n",
    "counts = np.array([2, 3, 10, 3, 2])\n",
    "\n",
    "mean = np.sum(values * counts) / np.sum(counts)\n",
    "variance = np.sum(counts * (values - mean)**2) / np.sum(counts)\n",
    "std_dev = np.sqrt(variance)\n",
    "n = np.sum(counts)\n",
    "confidence = 0.95\n",
    "chi2_lower = stats.chi2.ppf((1 - confidence) / 2, n-1)\n",
    "chi2_upper = stats.chi2.ppf(1 - (1 - confidence) / 2, n-1)\n",
    "interval = [np.sqrt(variance * (n-1) / chi2_upper), np.sqrt(variance * (n-1) / chi2_lower)]\n",
    "\n",
    "print(interval)\n"
   ]
  },
  {
   "cell_type": "code",
   "execution_count": 6,
   "id": "339aa6f8",
   "metadata": {},
   "outputs": [
    {
     "name": "stdout",
     "output_type": "stream",
     "text": [
      "[0.3094012864324589, 0.4979974132089382]\n"
     ]
    }
   ],
   "source": [
    "n = 100\n",
    "m = 40\n",
    "confidence = 0.95\n",
    "\n",
    "p_hat = m/n\n",
    "z = stats.norm.ppf(1 - (1 - confidence) / 2)\n",
    "interval = [(p_hat + z**2 / (2*n) - z * np.sqrt((p_hat*(1 - p_hat) + z**2 / (4*n)) / n)) / (1 + z**2 / n), \n",
    "            (p_hat + z**2 / (2*n) + z * np.sqrt((p_hat*(1 - p_hat) + z**2 / (4*n)) / n)) / (1 + z**2 / n)]\n",
    "\n",
    "print(interval)"
   ]
  },
  {
   "cell_type": "code",
   "execution_count": 7,
   "id": "8d89b6e1",
   "metadata": {},
   "outputs": [
    {
     "name": "stdout",
     "output_type": "stream",
     "text": [
      "166\n"
     ]
    }
   ],
   "source": [
    "import math\n",
    "\n",
    "Z = 2.576 # квантиль нормального розподілу\n",
    "sigma = 3\n",
    "beta = 0.6\n",
    "\n",
    "n = math.ceil((Z * sigma / beta) ** 2)\n",
    "\n",
    "print(n)"
   ]
  }
 ],
 "metadata": {
  "kernelspec": {
   "display_name": "Python 3 (ipykernel)",
   "language": "python",
   "name": "python3"
  },
  "language_info": {
   "codemirror_mode": {
    "name": "ipython",
    "version": 3
   },
   "file_extension": ".py",
   "mimetype": "text/x-python",
   "name": "python",
   "nbconvert_exporter": "python",
   "pygments_lexer": "ipython3",
   "version": "3.9.7"
  }
 },
 "nbformat": 4,
 "nbformat_minor": 5
}
